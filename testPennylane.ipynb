{
 "cells": [
  {
   "cell_type": "code",
   "execution_count": 1,
   "outputs": [],
   "source": [
    "import pennylane as qml\n",
    "import numpy as np\n",
    "import functools"
   ],
   "metadata": {
    "collapsed": false,
    "pycharm": {
     "name": "#%%\n"
    }
   }
  },
  {
   "cell_type": "code",
   "execution_count": 2,
   "outputs": [],
   "source": [
    "def my_quantum_function(x, y):\n",
    "    qml.RZ(x, wires=0)\n",
    "    qml.CNOT(wires=[0,1])\n",
    "    qml.RY(y, wires=1)\n",
    "    return qml.expval(qml.PauliZ(1))"
   ],
   "metadata": {
    "collapsed": false,
    "pycharm": {
     "name": "#%%\n"
    }
   }
  },
  {
   "cell_type": "code",
   "execution_count": 3,
   "outputs": [],
   "source": [
    "dev = qml.device('default.qubit', wires=2, shots=1000)"
   ],
   "metadata": {
    "collapsed": false,
    "pycharm": {
     "name": "#%%\n"
    }
   }
  },
  {
   "cell_type": "code",
   "execution_count": 4,
   "outputs": [],
   "source": [
    "circuit = qml.QNode(my_quantum_function, dev)"
   ],
   "metadata": {
    "collapsed": false,
    "pycharm": {
     "name": "#%%\n"
    }
   }
  },
  {
   "cell_type": "code",
   "execution_count": 5,
   "outputs": [
    {
     "data": {
      "text/plain": "tensor(0.776, requires_grad=True)"
     },
     "execution_count": 5,
     "metadata": {},
     "output_type": "execute_result"
    }
   ],
   "source": [
    "circuit(np.pi/4, 0.7)"
   ],
   "metadata": {
    "collapsed": false,
    "pycharm": {
     "name": "#%%\n"
    }
   }
  },
  {
   "cell_type": "code",
   "execution_count": 6,
   "outputs": [
    {
     "name": "stdout",
     "output_type": "stream",
     "text": [
      "0: ──RZ(0.79)─╭●───────────┤     \n",
      "1: ───────────╰X──RY(0.70)─┤  <Z>\n"
     ]
    }
   ],
   "source": [
    "print(qml.draw(circuit)(np.pi/4, 0.7))"
   ],
   "metadata": {
    "collapsed": false,
    "pycharm": {
     "name": "#%%\n"
    }
   }
  },
  {
   "cell_type": "code",
   "execution_count": 7,
   "outputs": [
    {
     "data": {
      "text/plain": "(<Figure size 600x300 with 1 Axes>, <Axes:>)"
     },
     "execution_count": 7,
     "metadata": {},
     "output_type": "execute_result"
    },
    {
     "data": {
      "text/plain": "<Figure size 600x300 with 1 Axes>",
      "image/png": "[encoded data removed]"
     },
     "metadata": {},
     "output_type": "display_data"
    }
   ],
   "source": [
    "qml.draw_mpl(circuit)(np.pi/4, 0.7)"
   ],
   "metadata": {
    "collapsed": false,
    "pycharm": {
     "name": "#%%\n"
    }
   }
  },
  {
   "cell_type": "markdown",
   "source": [
    "# Define circuit with decorator"
   ],
   "metadata": {
    "collapsed": false,
    "pycharm": {
     "name": "#%% md\n"
    }
   }
  },
  {
   "cell_type": "code",
   "execution_count": 8,
   "outputs": [],
   "source": [
    "dev = qml.device('default.qubit', wires=1, shots=1000)"
   ],
   "metadata": {
    "collapsed": false,
    "pycharm": {
     "name": "#%%\n"
    }
   }
  },
  {
   "cell_type": "code",
   "execution_count": 9,
   "outputs": [],
   "source": [
    "@qml.qnode(dev)\n",
    "def circuit(x):\n",
    "    qml.RX(x, wires=0)\n",
    "    return qml.expval(qml.PauliZ(0))"
   ],
   "metadata": {
    "collapsed": false,
    "pycharm": {
     "name": "#%%\n"
    }
   }
  },
  {
   "cell_type": "code",
   "execution_count": 10,
   "outputs": [
    {
     "data": {
      "text/plain": "tensor(0.016, requires_grad=True)"
     },
     "execution_count": 10,
     "metadata": {},
     "output_type": "execute_result"
    }
   ],
   "source": [
    "circuit(np.pi/2)"
   ],
   "metadata": {
    "collapsed": false,
    "pycharm": {
     "name": "#%%\n"
    }
   }
  },
  {
   "cell_type": "markdown",
   "source": [
    "# Custom equal to RX"
   ],
   "metadata": {
    "collapsed": false,
    "pycharm": {
     "name": "#%% md\n"
    }
   }
  },
  {
   "cell_type": "code",
   "execution_count": 11,
   "outputs": [],
   "source": [
    "class MyRX(qml.operation.Operation):\n",
    "    r\"\"\"\n",
    "    The single qubit X rotation\n",
    "\n",
    "    .. math:: R_x(\\phi) = e^{-i\\phi\\sigma_x/2} = \\begin{bmatrix}\n",
    "                \\cos(\\phi/2) & -i\\sin(\\phi/2) \\\\\n",
    "                -i\\sin(\\phi/2) & \\cos(\\phi/2)\n",
    "            \\end{bmatrix}.\n",
    "\n",
    "    **Details:**\n",
    "\n",
    "    * Number of wires: 1\n",
    "    * Number of parameters: 1\n",
    "    * Number of dimensions per parameter: (0,)\n",
    "    * Gradient recipe: :math:`\\frac{d}{d\\phi}f(R_x(\\phi)) = \\frac{1}{2}\\left[f(R_x(\\phi+\\pi/2)) - f(R_x(\\phi-\\pi/2))\\right]`\n",
    "      where :math:`f` is an expectation value depending on :math:`R_x(\\phi)`.\n",
    "\n",
    "    Args:\n",
    "        phi (float): rotation angle :math:`\\phi`\n",
    "        wires (Sequence[int] or int): the wire the operation acts on\n",
    "        do_queue (bool): Indicates whether the operator should be\n",
    "            immediately pushed into the Operator queue (optional)\n",
    "        id (str or None): String representing the operation (optional)\n",
    "    \"\"\"\n",
    "    num_wires = 1\n",
    "    num_params = 1\n",
    "    \"\"\"int: Number of trainable parameters that the operator depends on.\"\"\"\n",
    "\n",
    "    ndim_params = (0,)\n",
    "    \"\"\"tuple[int]: Number of dimensions per trainable parameter that the operator depends on.\"\"\"\n",
    "\n",
    "    basis = \"X\"\n",
    "    grad_method = \"A\"\n",
    "    parameter_frequencies = [(1,)]\n",
    "\n",
    "    def __init__(self, phi, wires, do_queue=True, id=None):\n",
    "        super().__init__(phi, wires=wires, do_queue=do_queue, id=id)\n",
    "\n",
    "    @staticmethod\n",
    "    def compute_matrix(theta):  # pylint: disable=arguments-differ\n",
    "        r\"\"\"Representation of the operator as a canonical matrix in the computational basis (static method).\n",
    "\n",
    "        The canonical matrix is the textbook matrix representation that does not consider wires.\n",
    "        Implicitly, this assumes that the wires of the operator correspond to the global wire order.\n",
    "\n",
    "        .. seealso:: :meth:`~.RX.matrix`\n",
    "\n",
    "        Args:\n",
    "            theta (tensor_like or float): rotation angle\n",
    "\n",
    "        Returns:\n",
    "            tensor_like: canonical matrix\n",
    "\n",
    "        **Example**\n",
    "\n",
    "        >>> qml.RX.compute_matrix(torch.tensor(0.5))\n",
    "        tensor([[0.9689+0.0000j, 0.0000-0.2474j],\n",
    "                [0.0000-0.2474j, 0.9689+0.0000j]])\n",
    "        \"\"\"\n",
    "\n",
    "        stack_last = functools.partial(qml.math.stack, axis=-1)\n",
    "\n",
    "        c = qml.math.cos(theta / 2)\n",
    "        s = qml.math.sin(theta / 2)\n",
    "\n",
    "        if qml.math.get_interface(theta) == \"tensorflow\":\n",
    "            c = qml.math.cast_like(c, 1j)\n",
    "            s = qml.math.cast_like(s, 1j)\n",
    "\n",
    "        # The following avoids casting an imaginary quantity to reals when backpropagating\n",
    "        c = (1 + 0j) * c\n",
    "        js = -1j * s\n",
    "        return qml.math.stack([stack_last([c, js]), stack_last([js, c])], axis=-2)"
   ],
   "metadata": {
    "collapsed": false,
    "pycharm": {
     "name": "#%%\n"
    }
   }
  },
  {
   "cell_type": "code",
   "execution_count": 12,
   "outputs": [],
   "source": [
    "@qml.qnode(dev)\n",
    "def circuit(x):\n",
    "    MyRX(x, wires=0)\n",
    "    return qml.expval(qml.PauliZ(0))"
   ],
   "metadata": {
    "collapsed": false,
    "pycharm": {
     "name": "#%%\n"
    }
   }
  },
  {
   "cell_type": "code",
   "execution_count": 13,
   "outputs": [
    {
     "data": {
      "text/plain": "tensor(0.012, requires_grad=True)"
     },
     "execution_count": 13,
     "metadata": {},
     "output_type": "execute_result"
    }
   ],
   "source": [
    "circuit(np.pi/2)"
   ],
   "metadata": {
    "collapsed": false,
    "pycharm": {
     "name": "#%%\n"
    }
   }
  },
  {
   "cell_type": "markdown",
   "source": [
    "# Custom Rxix"
   ],
   "metadata": {
    "collapsed": false,
    "pycharm": {
     "name": "#%% md\n"
    }
   }
  },
  {
   "cell_type": "code",
   "execution_count": 14,
   "outputs": [],
   "source": [
    "class RXIX(qml.operation.Operation):\n",
    "    r\"\"\"\n",
    "    The custom 3 qubit operation\n",
    "\n",
    "    .. math:: R_{xix}(\\phi) = e^{-i\\frac{\\phi}{2}(\\sigma_x\\otimes I\\otimes\\sigma_x)}.\n",
    "\n",
    "    **Details:**\n",
    "\n",
    "    * Number of wires: 3\n",
    "    * Number of parameters: 1\n",
    "    * Number of dimensions per parameter: (0,)\n",
    "    * Gradient recipe: :math:`\\frac{d}{d\\phi}f(R_x(\\phi)) = \\frac{1}{2}\\left[f(R_x(\\phi+\\pi/2)) - f(R_x(\\phi-\\pi/2))\\right]`\n",
    "      where :math:`f` is an expectation value depending on :math:`R_x(\\phi)`.\n",
    "\n",
    "    Args:\n",
    "        phi (float): rotation angle :math:`\\phi`\n",
    "        wires (Sequence[int] or int): the wire the operation acts on\n",
    "        do_queue (bool): Indicates whether the operator should be\n",
    "            immediately pushed into the Operator queue (optional)\n",
    "        id (str or None): String representing the operation (optional)\n",
    "    \"\"\"\n",
    "    num_wires = 3\n",
    "    num_params = 1\n",
    "    \"\"\"int: Number of trainable parameters that the operator depends on.\"\"\"\n",
    "\n",
    "    ndim_params = (0,)\n",
    "    \"\"\"tuple[int]: Number of dimensions per trainable parameter that the operator depends on.\"\"\"\n",
    "\n",
    "    # basis = \"X\"\n",
    "    grad_method = \"A\"\n",
    "    parameter_frequencies = [(1,)]\n",
    "\n",
    "    def __init__(self, phi, wires, do_queue=True, id=None):\n",
    "        super().__init__(phi, wires=wires, do_queue=do_queue, id=id)\n",
    "\n",
    "    @property\n",
    "    def num_params(self):\n",
    "        # if it is known before creation, define the number of parameters to expect here,\n",
    "        # which makes sure an error is raised if the wrong number was passed\n",
    "        return 1\n",
    "\n",
    "    @staticmethod\n",
    "    def compute_matrix(theta):  # pylint: disable=arguments-differ\n",
    "        r\"\"\"Representation of the operator as a canonical matrix in the computational basis (static method).\n",
    "\n",
    "        The canonical matrix is the textbook matrix representation that does not consider wires.\n",
    "        Implicitly, this assumes that the wires of the operator correspond to the global wire order.\n",
    "\n",
    "        .. seealso:: :meth:`~.RX.matrix`\n",
    "\n",
    "        Args:\n",
    "            theta (tensor_like or float): rotation angle\n",
    "\n",
    "        Returns:\n",
    "            tensor_like: canonical matrix\n",
    "\n",
    "        **Example**\n",
    "\n",
    "        >>> qml.RX.compute_matrix(torch.tensor(0.5))\n",
    "        tensor([[0.9689+0.0000j, 0.0000-0.2474j],\n",
    "                [0.0000-0.2474j, 0.9689+0.0000j]])\n",
    "        \"\"\"\n",
    "\n",
    "        stack_last = functools.partial(qml.math.stack, axis=-1)\n",
    "\n",
    "        c = qml.math.cos(theta / 2)\n",
    "        s = qml.math.sin(theta / 2)\n",
    "        o = 0\n",
    "\n",
    "        if qml.math.get_interface(theta) == \"tensorflow\":\n",
    "            c = qml.math.cast_like(c, 1j)\n",
    "            s = qml.math.cast_like(s, 1j)\n",
    "            o = qml.math.cast_like(o, 1j)\n",
    "\n",
    "        # The following avoids casting an imaginary quantity to reals when backpropagating\n",
    "        c = (1 + 0j) * c\n",
    "        js = -1j * s\n",
    "        o = (1 + 0j) * o\n",
    "\n",
    "        return qml.math.stack([\n",
    "            stack_last([c, o, o, o, o, js, o, o]),\n",
    "            stack_last([o, c, o, o, js, o, o, o]),\n",
    "            stack_last([o, o, c, o, o, o, o, js]),\n",
    "            stack_last([o, o, o, c, o, o, js, o]),\n",
    "            stack_last([o, js, o, o, c, o, o, o]),\n",
    "            stack_last([js, o, o, o, o, c, o, o]),\n",
    "            stack_last([o, o, o, js, o, o, c, o]),\n",
    "            stack_last([o, o, js, o, o, o, o, c])\n",
    "        ], axis=-2)"
   ],
   "metadata": {
    "collapsed": false,
    "pycharm": {
     "name": "#%%\n"
    }
   }
  },
  {
   "cell_type": "code",
   "execution_count": 15,
   "outputs": [],
   "source": [
    "dev = qml.device('default.qubit', wires=3, shots=1000)"
   ],
   "metadata": {
    "collapsed": false,
    "pycharm": {
     "name": "#%%\n"
    }
   }
  },
  {
   "cell_type": "code",
   "execution_count": 16,
   "outputs": [],
   "source": [
    "@qml.qnode(dev)\n",
    "def circuit(x):\n",
    "    RXIX(x, wires=[0,1,2])\n",
    "    return qml.expval(qml.PauliZ(0))"
   ],
   "metadata": {
    "collapsed": false,
    "pycharm": {
     "name": "#%%\n"
    }
   }
  },
  {
   "cell_type": "code",
   "execution_count": 17,
   "outputs": [
    {
     "data": {
      "text/plain": "tensor(-0.032, requires_grad=True)"
     },
     "execution_count": 17,
     "metadata": {},
     "output_type": "execute_result"
    }
   ],
   "source": [
    "circuit(np.pi/2)"
   ],
   "metadata": {
    "collapsed": false,
    "pycharm": {
     "name": "#%%\n"
    }
   }
  },
  {
   "cell_type": "code",
   "execution_count": 17,
   "outputs": [],
   "source": [],
   "metadata": {
    "collapsed": false,
    "pycharm": {
     "name": "#%%\n"
    }
   }
  }
 ],
 "metadata": {
  "kernelspec": {
   "display_name": "Python 3",
   "language": "python",
   "name": "python3"
  },
  "language_info": {
   "codemirror_mode": {
    "name": "ipython",
    "version": 2
   },
   "file_extension": ".py",
   "mimetype": "text/x-python",
   "name": "python",
   "nbconvert_exporter": "python",
   "pygments_lexer": "ipython2",
   "version": "2.7.6"
  }
 },
 "nbformat": 4,
 "nbformat_minor": 0
}